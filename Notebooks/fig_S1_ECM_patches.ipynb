{
 "cells": [
  {
   "cell_type": "code",
   "execution_count": 1,
   "id": "2542eab2",
   "metadata": {},
   "outputs": [],
   "source": [
    "# Standard library imports\n",
    "import os\n",
    "import sys\n",
    "import random\n",
    "from collections import Counter\n",
    "\n",
    "# Third-party library imports\n",
    "import numpy as np\n",
    "import pandas as pd\n",
    "from sklearn.preprocessing import StandardScaler, MinMaxScaler\n",
    "from sklearn.metrics import classification_report, accuracy_score\n",
    "from sklearn.model_selection import StratifiedShuffleSplit\n",
    "from glob import glob\n",
    "import matplotlib.pyplot as plt\n",
    "import seaborn as sns\n",
    "\n",
    "\n",
    "# Local module imports\n",
    "os.chdir('C:/Users/Adminn/Documents/GitHub/Cell_ECM_Graphs/src')\n",
    "from Graph_builder import *  # Import graph-building utilities\n",
    "from permutation_test import *  # Import permutation test utilities\n",
    "from CellECMGraphs_multiple import *  # Import Cell-ECM graph utilities\n",
    "from Helper_functions import *  # Import helper functions\n",
    "\n",
    "# Set random seeds for reproducibility\n",
    "random.seed(42)\n",
    "np.random.seed(42)\n",
    "\n",
    "# Set paths for data directories\n",
    "full_stack_img_dir = np.sort(glob('D:/raw/*/img/*')) # Path to IMC files \n",
    "panel_path = \"C:/Users/Adminn/Downloads/panel.csv\" # Path to panel - with ECM column \n",
    "cell_data_dir = np.sort(glob(\"C:/Users/Adminn/Desktop/PhD/cell_ECM_graphs/data/cell_data/*\")) # Path to cell data files - cell types/centroids"
   ]
  },
  {
   "cell_type": "code",
   "execution_count": 2,
   "id": "ec960d25",
   "metadata": {},
   "outputs": [
    {
     "name": "stdout",
     "output_type": "stream",
     "text": [
      "Building Cell-ECM-Graphs...\n",
      "ROI 0 complete.\n",
      "ROI 1 complete.\n",
      "ROI 2 complete.\n",
      "ROI 3 complete.\n",
      "ROI 4 complete.\n",
      "ROI 5 complete.\n",
      "ROI 6 complete.\n",
      "ROI 7 complete.\n",
      "ROI 8 complete.\n",
      "ROI 9 complete.\n",
      "ROI 10 complete.\n",
      "ROI 11 complete.\n",
      "ROI 12 complete.\n",
      "ROI 13 complete.\n",
      "ROI 14 complete.\n",
      "ROI 15 complete.\n",
      "ROI 16 complete.\n",
      "ROI 17 complete.\n",
      "ROI 18 complete.\n",
      "ROI 19 complete.\n",
      "ROI 20 complete.\n",
      "ROI 21 complete.\n",
      "ROI 22 complete.\n",
      "ROI 23 complete.\n",
      "ROI 24 complete.\n",
      "ROI 25 complete.\n",
      "ROI 26 complete.\n",
      "ROI 27 complete.\n",
      "ROI 28 complete.\n",
      "ROI 29 complete.\n",
      "ROI 30 complete.\n",
      "ROI 31 complete.\n",
      "ROI 32 complete.\n",
      "ROI 33 complete.\n",
      "ROI 34 complete.\n",
      "ROI 35 complete.\n",
      "Clustering all ECM patches together ... \n"
     ]
    }
   ],
   "source": [
    "save_folder = 'C:/Users/Adminn/Documents/GitHub/Cell_ECM_Graphs_Publication/Notebooks/figure_3/fig3_results/'\n",
    "\n",
    "# Initialize the Cell_ECM_Graphs \n",
    "ceg = Cell_ECM_Graphs(full_stack_img_path=full_stack_img_dir, \n",
    "                panel_path=panel_path,\n",
    "                cell_data_path=cell_data_dir,\n",
    "                save_folder=save_folder,\n",
    "                )\n",
    "\n",
    "# Build cell-ECM graphs for all regions of interest (ROIs)\\\n",
    "ceg.build_multiple_graphs(Dmax_CC=17, Dmax_CE=7, interaction_k=5)\n",
    "\n",
    "# Cluster all ECM patches of all ROIs together \n",
    "ceg.joint_ecm_clustering() \n"
   ]
  },
  {
   "cell_type": "code",
   "execution_count": null,
   "id": "89b4bba2",
   "metadata": {},
   "outputs": [],
   "source": [
    "\n",
    "# Access ECM clusters and their corresponding images\n",
    "recon_imgs = []\n",
    "for i in ceg.ceg_dict:\n",
    "    recon_imgs.append(ceg.ceg_dict[i].reconstructed_image)\n",
    "\n",
    "# Visualize the ECM patch clusters of all ROIs \n",
    "plot_36_images(recon_imgs, save_path='all_ROI_ecm_clusters.tiff')\n"
   ]
  }
 ],
 "metadata": {
  "kernelspec": {
   "display_name": "base",
   "language": "python",
   "name": "python3"
  },
  "language_info": {
   "codemirror_mode": {
    "name": "ipython",
    "version": 3
   },
   "file_extension": ".py",
   "mimetype": "text/x-python",
   "name": "python",
   "nbconvert_exporter": "python",
   "pygments_lexer": "ipython3",
   "version": "3.12.3"
  }
 },
 "nbformat": 4,
 "nbformat_minor": 5
}
