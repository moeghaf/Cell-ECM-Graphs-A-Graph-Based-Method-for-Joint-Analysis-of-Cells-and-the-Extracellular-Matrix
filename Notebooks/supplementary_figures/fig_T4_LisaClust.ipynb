{
 "cells": [
  {
   "cell_type": "markdown",
   "id": "a7675623",
   "metadata": {},
   "source": [
    "# Supplementary table 4: Searching for optimal Radii for LisaClust for benchmarking "
   ]
  },
  {
   "cell_type": "code",
   "execution_count": 2,
   "id": "89219b01",
   "metadata": {},
   "outputs": [],
   "source": [
    "import sys\n",
    "import os\n",
    "import matplotlib.pyplot as plt \n",
    "\n",
    "from collections import Counter\n",
    "\n",
    "# Third-party library imports\n",
    "import numpy as np\n",
    "import pandas as pd\n",
    "from sklearn.preprocessing import StandardScaler, MinMaxScaler\n",
    "from sklearn.metrics import classification_report, accuracy_score\n",
    "from sklearn.model_selection import StratifiedShuffleSplit\n",
    "from glob import glob\n",
    "import matplotlib.pyplot as plt\n",
    "import seaborn as sns\n",
    "from imblearn.over_sampling import SMOTE\n",
    "from sklearn.cluster import KMeans\n",
    "from sklearn.metrics import adjusted_rand_score, normalized_mutual_info_score\n",
    "\n",
    "# Local module imports\n",
    "os.chdir('C:/Users/Adminn/Documents/GitHub/CEG/src')\n",
    "from Graph_builder import *  # Import graph-building utilities\n",
    "from CellECMGraphs_multiple import *  # Import Cell-ECM graph utilities\n",
    "from Helper_functions import *  # Import helper functions\n",
    "from SimData_Generator import *\n",
    "\n",
    "# Set random seeds for reproducibility\n",
    "random.seed(42)\n",
    "np.random.seed(42)\n",
    "\n",
    "\n",
    "import torch \n",
    "from tqdm import tqdm "
   ]
  },
  {
   "cell_type": "code",
   "execution_count": 3,
   "id": "623be0fc",
   "metadata": {},
   "outputs": [],
   "source": [
    "# Load cell-ECM graph with ground truth regions \n",
    "ceg_gt = load_ceg(\"C:/Users/Adminn/Desktop/PhD/cell_ECM_graphs/Benchmarking/benchmark_data/benchmark_dataset.dill\").ceg_dict[0]\n",
    "ceg_gt.single = True # Auto visualization \n",
    "\n",
    "ground_truth = LabelEncoder().fit_transform(np.array([gt for n, gt in ceg_gt.G.nodes(data='ground_truth_label') if 'cell' in n]))\n"
   ]
  },
  {
   "cell_type": "code",
   "execution_count": 4,
   "id": "70961e2d",
   "metadata": {},
   "outputs": [],
   "source": [
    "# Load predicted from LisaClust in R to graph \n",
    "\n",
    "LisaClust_Radi_Results_path = glob('C:/Users/Adminn/Documents/lisaClust_dfs/*csv*')\n",
    "LisaClust_Radi_Results = [pd.read_csv(i) for i in LisaClust_Radi_Results_path]\n",
    "\n",
    "Radii = [ 10, 100, 20, 200, 30,300, 40, 5, 50 ,60]"
   ]
  },
  {
   "cell_type": "code",
   "execution_count": 5,
   "id": "22ca85ed",
   "metadata": {},
   "outputs": [],
   "source": [
    "for r, r_df in zip(Radii, LisaClust_Radi_Results):\n",
    "    count = 0 \n",
    "    for n, attri in ceg_gt.G.nodes(data=True):\n",
    "        if 'cell' in n:\n",
    "            attri['LisaClust_' +str(r)] = r_df.iloc[count]['region']\n",
    "            count += 1\n"
   ]
  },
  {
   "cell_type": "code",
   "execution_count": 6,
   "id": "d93cc21f",
   "metadata": {},
   "outputs": [],
   "source": [
    "Radii_results = {r:{'ARI': [], 'NMI': []} for r in Radii}\n",
    "\n",
    "for r in Radii:\n",
    "    r_name = 'LisaClust_' +str(r)\n",
    "    LisaClust_predicted_leiden = LabelEncoder().fit_transform(np.array([ceg_gt.G.nodes[n][r_name] for n in ceg_gt.G.nodes if 'cell' in n]))\n",
    "    ari_cell_leiden = adjusted_rand_score(ground_truth, LisaClust_predicted_leiden)\n",
    "    nmi_cell_leiden = normalized_mutual_info_score(ground_truth, LisaClust_predicted_leiden)\n",
    "\n",
    "    Radii_results[r]['ARI'] = (ari_cell_leiden)\n",
    "    Radii_results[r]['NMI'] = (nmi_cell_leiden)\n",
    "\n"
   ]
  },
  {
   "cell_type": "code",
   "execution_count": 8,
   "id": "00c80b96",
   "metadata": {},
   "outputs": [],
   "source": [
    "Radii_results_df = pd.DataFrame(Radii_results).T\n",
    "Radii_results_df.columns = ['ARI', 'NMI']\n",
    "Radii_results_df.sort_index(inplace=True)\n",
    "Radii_results_df = Radii_results_df.round(4)\n",
    "Radii_results_df.to_csv('D:/Supplementary_figures/LisaClust_Radii_optimization.csv')"
   ]
  },
  {
   "cell_type": "code",
   "execution_count": 9,
   "id": "6a560e79",
   "metadata": {},
   "outputs": [
    {
     "data": {
      "text/html": [
       "<div>\n",
       "<style scoped>\n",
       "    .dataframe tbody tr th:only-of-type {\n",
       "        vertical-align: middle;\n",
       "    }\n",
       "\n",
       "    .dataframe tbody tr th {\n",
       "        vertical-align: top;\n",
       "    }\n",
       "\n",
       "    .dataframe thead th {\n",
       "        text-align: right;\n",
       "    }\n",
       "</style>\n",
       "<table border=\"1\" class=\"dataframe\">\n",
       "  <thead>\n",
       "    <tr style=\"text-align: right;\">\n",
       "      <th></th>\n",
       "      <th>ARI</th>\n",
       "      <th>NMI</th>\n",
       "    </tr>\n",
       "  </thead>\n",
       "  <tbody>\n",
       "    <tr>\n",
       "      <th>5</th>\n",
       "      <td>0.1241</td>\n",
       "      <td>0.2539</td>\n",
       "    </tr>\n",
       "    <tr>\n",
       "      <th>10</th>\n",
       "      <td>0.2008</td>\n",
       "      <td>0.3694</td>\n",
       "    </tr>\n",
       "    <tr>\n",
       "      <th>20</th>\n",
       "      <td>0.1688</td>\n",
       "      <td>0.3392</td>\n",
       "    </tr>\n",
       "    <tr>\n",
       "      <th>30</th>\n",
       "      <td>0.0923</td>\n",
       "      <td>0.2255</td>\n",
       "    </tr>\n",
       "    <tr>\n",
       "      <th>40</th>\n",
       "      <td>0.1668</td>\n",
       "      <td>0.3362</td>\n",
       "    </tr>\n",
       "    <tr>\n",
       "      <th>50</th>\n",
       "      <td>0.1273</td>\n",
       "      <td>0.2978</td>\n",
       "    </tr>\n",
       "    <tr>\n",
       "      <th>60</th>\n",
       "      <td>0.1118</td>\n",
       "      <td>0.2775</td>\n",
       "    </tr>\n",
       "    <tr>\n",
       "      <th>100</th>\n",
       "      <td>0.0910</td>\n",
       "      <td>0.2346</td>\n",
       "    </tr>\n",
       "    <tr>\n",
       "      <th>200</th>\n",
       "      <td>0.0819</td>\n",
       "      <td>0.1377</td>\n",
       "    </tr>\n",
       "    <tr>\n",
       "      <th>300</th>\n",
       "      <td>0.0011</td>\n",
       "      <td>0.1103</td>\n",
       "    </tr>\n",
       "  </tbody>\n",
       "</table>\n",
       "</div>"
      ],
      "text/plain": [
       "        ARI     NMI\n",
       "5    0.1241  0.2539\n",
       "10   0.2008  0.3694\n",
       "20   0.1688  0.3392\n",
       "30   0.0923  0.2255\n",
       "40   0.1668  0.3362\n",
       "50   0.1273  0.2978\n",
       "60   0.1118  0.2775\n",
       "100  0.0910  0.2346\n",
       "200  0.0819  0.1377\n",
       "300  0.0011  0.1103"
      ]
     },
     "execution_count": 9,
     "metadata": {},
     "output_type": "execute_result"
    }
   ],
   "source": [
    "Radii_results_df"
   ]
  }
 ],
 "metadata": {
  "kernelspec": {
   "display_name": "Python 3",
   "language": "python",
   "name": "python3"
  },
  "language_info": {
   "codemirror_mode": {
    "name": "ipython",
    "version": 3
   },
   "file_extension": ".py",
   "mimetype": "text/x-python",
   "name": "python",
   "nbconvert_exporter": "python",
   "pygments_lexer": "ipython3",
   "version": "3.11.9"
  }
 },
 "nbformat": 4,
 "nbformat_minor": 5
}
