{
 "cells": [
  {
   "cell_type": "markdown",
   "id": "a7675623",
   "metadata": {},
   "source": [
    "# Supplementary table 4: Searching for optimal Radii for LisaClust for benchmarking "
   ]
  },
  {
   "cell_type": "code",
   "execution_count": 2,
   "id": "89219b01",
   "metadata": {},
   "outputs": [],
   "source": [
    "import sys\n",
    "import os\n",
    "import matplotlib.pyplot as plt \n",
    "\n",
    "from collections import Counter\n",
    "\n",
    "# Third-party library imports\n",
    "import numpy as np\n",
    "import pandas as pd\n",
    "from sklearn.preprocessing import StandardScaler, MinMaxScaler\n",
    "from sklearn.metrics import classification_report, accuracy_score\n",
    "from sklearn.model_selection import StratifiedShuffleSplit\n",
    "from glob import glob\n",
    "import matplotlib.pyplot as plt\n",
    "import seaborn as sns\n",
    "from imblearn.over_sampling import SMOTE\n",
    "from sklearn.cluster import KMeans\n",
    "from sklearn.metrics import adjusted_rand_score, normalized_mutual_info_score\n",
    "\n",
    "# Local module imports\n",
    "os.chdir('C:/Users/Adminn/Documents/GitHub/CEG/src')\n",
    "from Graph_builder import *  # Import graph-building utilities\n",
    "from CellECMGraphs_multiple import *  # Import Cell-ECM graph utilities\n",
    "from Helper_functions import *  # Import helper functions\n",
    "from SimData_Generator import *\n",
    "\n",
    "# Set random seeds for reproducibility\n",
    "random.seed(42)\n",
    "np.random.seed(42)\n",
    "\n",
    "\n",
    "import torch \n",
    "from tqdm import tqdm "
   ]
  },
  {
   "cell_type": "code",
   "execution_count": 3,
   "id": "623be0fc",
   "metadata": {},
   "outputs": [],
   "source": [
    "# Load cell-ECM graph with ground truth regions \n",
    "ceg_gt = load_ceg(\"C:/Users/Adminn/Desktop/PhD/cell_ECM_graphs/Benchmarking/benchmark_data/benchmark_dataset.dill\").ceg_dict[0]\n",
    "ceg_gt.single = True # Auto visualization \n",
    "\n",
    "ground_truth = LabelEncoder().fit_transform(np.array([gt for n, gt in ceg_gt.G.nodes(data='ground_truth_label') if 'cell' in n]))\n"
   ]
  },
  {
   "cell_type": "code",
   "execution_count": 18,
   "id": "ed010055",
   "metadata": {},
   "outputs": [],
   "source": [
    "# extract cell and ecm positions and labels\n",
    "x = []\n",
    "y = []\n",
    "celltype = []\n",
    "\n",
    "for n, attri in ceg_gt.G.nodes(data=True):\n",
    "    if 'cell' in n:\n",
    "        x.append(attri['centroid'][0])\n",
    "        y.append(attri['centroid'][1])\n",
    "        celltype.append(attri['cell_type'])\n",
    "    else:\n",
    "        x.append(attri['ecm_coords'][0])\n",
    "        y.append(attri['ecm_coords'][1])\n",
    "        celltype.append(attri['ecm_labels'])\n",
    "\n"
   ]
  },
  {
   "cell_type": "code",
   "execution_count": 19,
   "id": "63135ac5",
   "metadata": {},
   "outputs": [],
   "source": [
    "# create a df from x,y, and celltype\n",
    "df = pd.DataFrame({'x': x, 'y': y, 'celltype': celltype})   \n",
    "df.to_csv('lisaClust_cell_ecm.csv', index=False)"
   ]
  },
  {
   "cell_type": "markdown",
   "id": "6b43dfb6",
   "metadata": {},
   "source": [
    "## Cell graph "
   ]
  },
  {
   "cell_type": "code",
   "execution_count": 75,
   "id": "f21d4b0e",
   "metadata": {},
   "outputs": [
    {
     "data": {
      "text/plain": [
       "['D:/Supplementary_figures/cell_lisaClust_dfs\\\\lisaClustResult_Rs_10.csv',\n",
       " 'D:/Supplementary_figures/cell_lisaClust_dfs\\\\lisaClustResult_Rs_100.csv',\n",
       " 'D:/Supplementary_figures/cell_lisaClust_dfs\\\\lisaClustResult_Rs_20.csv',\n",
       " 'D:/Supplementary_figures/cell_lisaClust_dfs\\\\lisaClustResult_Rs_200.csv',\n",
       " 'D:/Supplementary_figures/cell_lisaClust_dfs\\\\lisaClustResult_Rs_30.csv',\n",
       " 'D:/Supplementary_figures/cell_lisaClust_dfs\\\\lisaClustResult_Rs_40.csv',\n",
       " 'D:/Supplementary_figures/cell_lisaClust_dfs\\\\lisaClustResult_Rs_5.csv',\n",
       " 'D:/Supplementary_figures/cell_lisaClust_dfs\\\\lisaClustResult_Rs_50.csv',\n",
       " 'D:/Supplementary_figures/cell_lisaClust_dfs\\\\lisaClustResult_Rs_60.csv']"
      ]
     },
     "execution_count": 75,
     "metadata": {},
     "output_type": "execute_result"
    }
   ],
   "source": [
    "LisaClust_Radi_Results_path = glob('D:/Supplementary_figures/cell_lisaClust_dfs/*csv*')\n",
    "LisaClust_Radi_Results_path"
   ]
  },
  {
   "cell_type": "code",
   "execution_count": 76,
   "id": "70961e2d",
   "metadata": {},
   "outputs": [],
   "source": [
    "# Load predicted from LisaClust in R to graph \n",
    "\n",
    "LisaClust_Radi_Results_path = glob('D:/Supplementary_figures/cell_lisaClust_dfs/*')\n",
    "LisaClust_Radi_Results = [pd.read_csv(i) for i in LisaClust_Radi_Results_path]\n",
    "\n",
    "\n",
    "Radii = [int(i.split('Rs_')[-1].split('.')[0]) for i in LisaClust_Radi_Results_path]\n"
   ]
  },
  {
   "cell_type": "code",
   "execution_count": 77,
   "id": "22ca85ed",
   "metadata": {},
   "outputs": [],
   "source": [
    "for r, r_df in zip(Radii, LisaClust_Radi_Results):\n",
    "    count = 0 \n",
    "    for n, attri in ceg_gt.G.nodes(data=True):\n",
    "        if 'cell' in n:\n",
    "            attri['LisaClust_' +str(r)] = r_df.iloc[count]['region']\n",
    "            count += 1\n"
   ]
  },
  {
   "cell_type": "code",
   "execution_count": 78,
   "id": "d93cc21f",
   "metadata": {},
   "outputs": [],
   "source": [
    "Radii_results = {r:{'ARI': [], 'NMI': []} for r in Radii}\n",
    "\n",
    "for r in Radii:\n",
    "    r_name = 'LisaClust_' +str(r)\n",
    "    LisaClust_predicted_LisaClust = LabelEncoder().fit_transform(np.array([ceg_gt.G.nodes[n][r_name] for n in ceg_gt.G.nodes if 'cell' in n]))\n",
    "    ari_cell_LisaClust = adjusted_rand_score(ground_truth, LisaClust_predicted_LisaClust)\n",
    "    nmi_cell_LisaClust = normalized_mutual_info_score(ground_truth, LisaClust_predicted_LisaClust)\n",
    "\n",
    "    Radii_results[r]['ARI'] = (ari_cell_LisaClust)\n",
    "    Radii_results[r]['NMI'] = (nmi_cell_LisaClust)\n",
    "\n"
   ]
  },
  {
   "cell_type": "code",
   "execution_count": 79,
   "id": "00c80b96",
   "metadata": {},
   "outputs": [],
   "source": [
    "Radii_results_df = pd.DataFrame(Radii_results).T\n",
    "Radii_results_df.columns = ['ARI', 'NMI']\n",
    "Radii_results_df.sort_index(inplace=True)\n",
    "Radii_results_df = Radii_results_df.round(4)\n",
    "#Radii_results_df.to_csv('D:/Supplementary_figures/LisaClust_Radii_optimization.csv')"
   ]
  },
  {
   "cell_type": "code",
   "execution_count": 80,
   "id": "6a560e79",
   "metadata": {},
   "outputs": [
    {
     "data": {
      "text/html": [
       "<div>\n",
       "<style scoped>\n",
       "    .dataframe tbody tr th:only-of-type {\n",
       "        vertical-align: middle;\n",
       "    }\n",
       "\n",
       "    .dataframe tbody tr th {\n",
       "        vertical-align: top;\n",
       "    }\n",
       "\n",
       "    .dataframe thead th {\n",
       "        text-align: right;\n",
       "    }\n",
       "</style>\n",
       "<table border=\"1\" class=\"dataframe\">\n",
       "  <thead>\n",
       "    <tr style=\"text-align: right;\">\n",
       "      <th></th>\n",
       "      <th>ARI</th>\n",
       "      <th>NMI</th>\n",
       "    </tr>\n",
       "  </thead>\n",
       "  <tbody>\n",
       "    <tr>\n",
       "      <th>5</th>\n",
       "      <td>0.1241</td>\n",
       "      <td>0.2539</td>\n",
       "    </tr>\n",
       "    <tr>\n",
       "      <th>10</th>\n",
       "      <td>0.2008</td>\n",
       "      <td>0.3694</td>\n",
       "    </tr>\n",
       "    <tr>\n",
       "      <th>20</th>\n",
       "      <td>0.1688</td>\n",
       "      <td>0.3392</td>\n",
       "    </tr>\n",
       "    <tr>\n",
       "      <th>30</th>\n",
       "      <td>0.0923</td>\n",
       "      <td>0.2255</td>\n",
       "    </tr>\n",
       "    <tr>\n",
       "      <th>40</th>\n",
       "      <td>0.1668</td>\n",
       "      <td>0.3362</td>\n",
       "    </tr>\n",
       "    <tr>\n",
       "      <th>50</th>\n",
       "      <td>0.1273</td>\n",
       "      <td>0.2978</td>\n",
       "    </tr>\n",
       "    <tr>\n",
       "      <th>60</th>\n",
       "      <td>0.1118</td>\n",
       "      <td>0.2775</td>\n",
       "    </tr>\n",
       "    <tr>\n",
       "      <th>100</th>\n",
       "      <td>0.0910</td>\n",
       "      <td>0.2346</td>\n",
       "    </tr>\n",
       "    <tr>\n",
       "      <th>200</th>\n",
       "      <td>0.0819</td>\n",
       "      <td>0.1377</td>\n",
       "    </tr>\n",
       "  </tbody>\n",
       "</table>\n",
       "</div>"
      ],
      "text/plain": [
       "        ARI     NMI\n",
       "5    0.1241  0.2539\n",
       "10   0.2008  0.3694\n",
       "20   0.1688  0.3392\n",
       "30   0.0923  0.2255\n",
       "40   0.1668  0.3362\n",
       "50   0.1273  0.2978\n",
       "60   0.1118  0.2775\n",
       "100  0.0910  0.2346\n",
       "200  0.0819  0.1377"
      ]
     },
     "execution_count": 80,
     "metadata": {},
     "output_type": "execute_result"
    }
   ],
   "source": [
    "Radii_results_df"
   ]
  },
  {
   "cell_type": "markdown",
   "id": "cb83e13d",
   "metadata": {},
   "source": [
    "## Cell-ECM graph \n",
    "\n",
    "ECM nodes are treated in the same way as cells. "
   ]
  },
  {
   "cell_type": "code",
   "execution_count": 81,
   "id": "722e9f5c",
   "metadata": {},
   "outputs": [],
   "source": [
    "# Load predicted from LisaClust in R to graph \n",
    "\n",
    "LisaClust_Radi_Results_path = glob('D:/Supplementary_figures/cell_ecm_lisaClust_dfs/*csv*')\n",
    "LisaClust_Radi_Results = [pd.read_csv(i) for i in LisaClust_Radi_Results_path]\n",
    "\n",
    "Radii = [int(i.split('Rs_')[-1].split('.')[0]) for i in LisaClust_Radi_Results_path]"
   ]
  },
  {
   "cell_type": "code",
   "execution_count": 82,
   "id": "e65c674a",
   "metadata": {},
   "outputs": [],
   "source": [
    "for r, r_df in zip(Radii, LisaClust_Radi_Results):\n",
    "    count = 0 \n",
    "    for n, attri in ceg_gt.G.nodes(data=True):\n",
    "        if 'cell' in n:\n",
    "            attri['LisaClust_' +str(r)] = r_df.iloc[count]['region']\n",
    "            count += 1\n"
   ]
  },
  {
   "cell_type": "code",
   "execution_count": 83,
   "id": "74b466da",
   "metadata": {},
   "outputs": [],
   "source": [
    "Radii_results = {r:{'ARI': [], 'NMI': []} for r in Radii}\n",
    "\n",
    "for r in Radii:\n",
    "    r_name = 'LisaClust_' +str(r)\n",
    "    LisaClust_predicted = LabelEncoder().fit_transform(np.array([ceg_gt.G.nodes[n][r_name] for n in ceg_gt.G.nodes if 'cell' in n]))\n",
    "    ari_cell_LisaClust = adjusted_rand_score(ground_truth, LisaClust_predicted)\n",
    "    nmi_cell_LisaClust = normalized_mutual_info_score(ground_truth, LisaClust_predicted)\n",
    "\n",
    "    Radii_results[r]['ARI'] = (ari_cell_LisaClust)\n",
    "    Radii_results[r]['NMI'] = (nmi_cell_LisaClust)\n",
    "\n"
   ]
  },
  {
   "cell_type": "code",
   "execution_count": 84,
   "id": "b437ead3",
   "metadata": {},
   "outputs": [
    {
     "data": {
      "text/html": [
       "<div>\n",
       "<style scoped>\n",
       "    .dataframe tbody tr th:only-of-type {\n",
       "        vertical-align: middle;\n",
       "    }\n",
       "\n",
       "    .dataframe tbody tr th {\n",
       "        vertical-align: top;\n",
       "    }\n",
       "\n",
       "    .dataframe thead th {\n",
       "        text-align: right;\n",
       "    }\n",
       "</style>\n",
       "<table border=\"1\" class=\"dataframe\">\n",
       "  <thead>\n",
       "    <tr style=\"text-align: right;\">\n",
       "      <th></th>\n",
       "      <th>ARI</th>\n",
       "      <th>NMI</th>\n",
       "    </tr>\n",
       "  </thead>\n",
       "  <tbody>\n",
       "    <tr>\n",
       "      <th>5</th>\n",
       "      <td>0.2879</td>\n",
       "      <td>0.4516</td>\n",
       "    </tr>\n",
       "    <tr>\n",
       "      <th>10</th>\n",
       "      <td>0.1892</td>\n",
       "      <td>0.4080</td>\n",
       "    </tr>\n",
       "    <tr>\n",
       "      <th>20</th>\n",
       "      <td>0.7927</td>\n",
       "      <td>0.7296</td>\n",
       "    </tr>\n",
       "    <tr>\n",
       "      <th>30</th>\n",
       "      <td>0.2316</td>\n",
       "      <td>0.3961</td>\n",
       "    </tr>\n",
       "    <tr>\n",
       "      <th>40</th>\n",
       "      <td>0.2700</td>\n",
       "      <td>0.4238</td>\n",
       "    </tr>\n",
       "    <tr>\n",
       "      <th>50</th>\n",
       "      <td>0.5372</td>\n",
       "      <td>0.5239</td>\n",
       "    </tr>\n",
       "    <tr>\n",
       "      <th>60</th>\n",
       "      <td>0.4667</td>\n",
       "      <td>0.4692</td>\n",
       "    </tr>\n",
       "    <tr>\n",
       "      <th>100</th>\n",
       "      <td>0.2979</td>\n",
       "      <td>0.3479</td>\n",
       "    </tr>\n",
       "    <tr>\n",
       "      <th>200</th>\n",
       "      <td>0.0079</td>\n",
       "      <td>0.0898</td>\n",
       "    </tr>\n",
       "  </tbody>\n",
       "</table>\n",
       "</div>"
      ],
      "text/plain": [
       "        ARI     NMI\n",
       "5    0.2879  0.4516\n",
       "10   0.1892  0.4080\n",
       "20   0.7927  0.7296\n",
       "30   0.2316  0.3961\n",
       "40   0.2700  0.4238\n",
       "50   0.5372  0.5239\n",
       "60   0.4667  0.4692\n",
       "100  0.2979  0.3479\n",
       "200  0.0079  0.0898"
      ]
     },
     "execution_count": 84,
     "metadata": {},
     "output_type": "execute_result"
    }
   ],
   "source": [
    "cell_ecm_Radii_results_df = pd.DataFrame(Radii_results).T\n",
    "cell_ecm_Radii_results_df.columns = ['ARI', 'NMI']\n",
    "cell_ecm_Radii_results_df.sort_index(inplace=True)\n",
    "cell_ecm_Radii_results_df = cell_ecm_Radii_results_df.round(4)\n",
    "cell_ecm_Radii_results_df"
   ]
  },
  {
   "cell_type": "code",
   "execution_count": 85,
   "id": "e069a23d",
   "metadata": {},
   "outputs": [],
   "source": [
    "cell_ecm_Radii_results_df.to_csv('D:/Supplementary_figures/cell_ecm_LisaClust_Radii_optimization.csv')"
   ]
  }
 ],
 "metadata": {
  "kernelspec": {
   "display_name": "Python 3",
   "language": "python",
   "name": "python3"
  },
  "language_info": {
   "codemirror_mode": {
    "name": "ipython",
    "version": 3
   },
   "file_extension": ".py",
   "mimetype": "text/x-python",
   "name": "python",
   "nbconvert_exporter": "python",
   "pygments_lexer": "ipython3",
   "version": "3.11.9"
  }
 },
 "nbformat": 4,
 "nbformat_minor": 5
}
