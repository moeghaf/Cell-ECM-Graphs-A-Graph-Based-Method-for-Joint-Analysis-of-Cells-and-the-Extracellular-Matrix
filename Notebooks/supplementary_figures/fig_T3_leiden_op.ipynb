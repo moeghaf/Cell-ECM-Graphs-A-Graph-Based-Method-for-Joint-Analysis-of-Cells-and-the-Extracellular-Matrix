{
 "cells": [
  {
   "cell_type": "markdown",
   "id": "4f29d52d",
   "metadata": {},
   "source": [
    "# Supplementary table 3: Leiden clustering, searching for optimal resolution "
   ]
  },
  {
   "cell_type": "code",
   "execution_count": 35,
   "id": "7e6da8a9",
   "metadata": {},
   "outputs": [],
   "source": [
    "import sys\n",
    "import os\n",
    "import matplotlib.pyplot as plt \n",
    "\n",
    "from collections import Counter\n",
    "\n",
    "# Third-party library imports\n",
    "import numpy as np\n",
    "import pandas as pd\n",
    "from sklearn.preprocessing import StandardScaler, MinMaxScaler\n",
    "from sklearn.metrics import classification_report, accuracy_score\n",
    "from sklearn.model_selection import StratifiedShuffleSplit\n",
    "from glob import glob\n",
    "import matplotlib.pyplot as plt\n",
    "import seaborn as sns\n",
    "from imblearn.over_sampling import SMOTE\n",
    "from sklearn.cluster import KMeans\n",
    "from sklearn.metrics import adjusted_rand_score, normalized_mutual_info_score\n",
    "\n",
    "# Local module imports\n",
    "os.chdir('C:/Users/Adminn/Documents/GitHub/CEG/src')\n",
    "from Graph_builder import *  # Import graph-building utilities\n",
    "from CellECMGraphs_multiple import *  # Import Cell-ECM graph utilities\n",
    "from Helper_functions import *  # Import helper functions\n",
    "from SimData_Generator import *\n",
    "\n",
    "# Set random seeds for reproducibility\n",
    "random.seed(42)\n",
    "np.random.seed(42)\n",
    "\n",
    "\n",
    "import torch \n",
    "from tqdm import tqdm "
   ]
  },
  {
   "cell_type": "code",
   "execution_count": 36,
   "id": "921e327a",
   "metadata": {},
   "outputs": [],
   "source": [
    "# Load cell-ECM graph with ground truth regions \n",
    "ceg_gt = load_ceg(\"C:/Users/Adminn/Desktop/PhD/cell_ECM_graphs/Benchmarking/benchmark_data/benchmark_dataset.dill\").ceg_dict[0]\n",
    "ceg_gt.single = True # Auto visualization \n",
    "\n",
    "ground_truth = LabelEncoder().fit_transform(np.array([gt for n, gt in ceg_gt.G.nodes(data='ground_truth_label') if 'cell' in n]))\n"
   ]
  },
  {
   "cell_type": "markdown",
   "id": "bd5c27fd",
   "metadata": {},
   "source": [
    "Cell graph "
   ]
  },
  {
   "cell_type": "code",
   "execution_count": 37,
   "id": "44a2523d",
   "metadata": {},
   "outputs": [],
   "source": [
    "# Leiden clustering on cell-ECM graph\n",
    "\n",
    "import igraph as ig\n",
    "import leidenalg\n",
    "\n",
    "cell_r_results = {'nmi': [], 'ari': []}\n",
    "\n",
    "for resolution in [0.0001, 0.001, 0.01, 0.1, 1.0, 10.0]:\n",
    "    # Extract adjacency matrix for cell nodes only\n",
    "    cell_nodes = [n for n in ceg_gt.cell_G.nodes if 'cell' in n]\n",
    "    cell_indices = {n: i for i, n in enumerate(cell_nodes)}\n",
    "\n",
    "    # Build igraph from networkx subgraph of cell nodes\n",
    "    cell_subgraph = ceg_gt.G.subgraph(cell_nodes)\n",
    "    edges = [(cell_indices[u], cell_indices[v]) for u, v in cell_subgraph.edges()]\n",
    "    g_ig = ig.Graph(edges=edges, directed=False)\n",
    "\n",
    "    # Run Leiden clustering (set number of clusters or use default resolution)\n",
    "    leiden_partition = leidenalg.find_partition(g_ig, leidenalg.RBConfigurationVertexPartition, resolution_parameter=resolution)\n",
    "    leiden_labels = np.array(leiden_partition.membership)\n",
    "\n",
    "    # Assign Leiden cluster labels back to nodes\n",
    "    for n, label in zip(cell_nodes, leiden_labels):\n",
    "        ceg_gt.G.nodes[n]['cell_leiden_label'] = label\n",
    "\n",
    "    cell_predicted_leiden = LabelEncoder().fit_transform(np.array([ceg_gt.G.nodes[n]['cell_leiden_label'] for n in ceg_gt.G.nodes if 'cell' in n]))\n",
    "\n",
    "    ari_cell_leiden = adjusted_rand_score(ground_truth, cell_predicted_leiden)\n",
    "    nmi_cell_leiden = normalized_mutual_info_score(ground_truth, cell_predicted_leiden)\n",
    "    cell_r_results['nmi'].append(nmi_cell_leiden)\n",
    "    cell_r_results['ari'].append(ari_cell_leiden)\n",
    "\n",
    "    "
   ]
  },
  {
   "cell_type": "code",
   "execution_count": 38,
   "id": "f6888d07",
   "metadata": {},
   "outputs": [
    {
     "data": {
      "text/plain": [
       "{'nmi': [0.33162094348828497,\n",
       "  0.23360127614675882,\n",
       "  0.18210306238319973,\n",
       "  0.169027624893593,\n",
       "  0.15323353933379302,\n",
       "  0.13701033471532004],\n",
       " 'ari': [0.3026363963116996,\n",
       "  0.04623067491232834,\n",
       "  0.03394721202345103,\n",
       "  0.01274031823212024,\n",
       "  0.004858777839169428,\n",
       "  0.001754970605490017]}"
      ]
     },
     "execution_count": 38,
     "metadata": {},
     "output_type": "execute_result"
    }
   ],
   "source": [
    "\n",
    "cell_r_results # 0.001 optimal resolution for leiden clustering on cell graph \n",
    "\n"
   ]
  },
  {
   "cell_type": "markdown",
   "id": "4be06424",
   "metadata": {},
   "source": [
    "cell-ECM graph"
   ]
  },
  {
   "cell_type": "code",
   "execution_count": 39,
   "id": "cd5cdbe3",
   "metadata": {},
   "outputs": [],
   "source": [
    "\n",
    "cell_ecm_r_results = {'nmi': [], 'ari': []}\n",
    "\n",
    "for resolution in [0.0001, 0.001, 0.01, 0.1, 1.0, 10.0]:\n",
    "    # Use all nodes (cell and ECM)\n",
    "    all_nodes = list(ceg_gt.G.nodes)\n",
    "    node_indices = {n: i for i, n in enumerate(all_nodes)}\n",
    "\n",
    "    # Build igraph from networkx subgraph of all nodes\n",
    "    edges = [(node_indices[u], node_indices[v]) for u, v in ceg_gt.G.edges()]\n",
    "    g_ig = ig.Graph(edges=edges, directed=False)\n",
    "\n",
    "    # Run Leiden clustering (set resolution as needed)\n",
    "    leiden_partition = leidenalg.find_partition(g_ig, leidenalg.RBConfigurationVertexPartition, resolution_parameter=resolution)\n",
    "    leiden_labels = np.array(leiden_partition.membership)\n",
    "\n",
    "    # Assign Leiden cluster labels back to nodes\n",
    "    for n, label in zip(all_nodes, leiden_labels):\n",
    "        ceg_gt.G.nodes[n]['cell_ecm_leiden_label'] = label\n",
    "    \n",
    "\n",
    "    cell_ecm_predicted_leiden = LabelEncoder().fit_transform(np.array([ceg_gt.G.nodes[n]['cell_ecm_leiden_label'] for n in ceg_gt.G.nodes if 'cell' in n]))\n",
    "    ari_cell_ecm_leiden = adjusted_rand_score(ground_truth, cell_ecm_predicted_leiden)\n",
    "    nmi_cell_ecm_leiden = normalized_mutual_info_score(ground_truth, cell_ecm_predicted_leiden)\n",
    "    cell_ecm_r_results['nmi'].append(nmi_cell_ecm_leiden)\n",
    "    cell_ecm_r_results['ari'].append(ari_cell_ecm_leiden)"
   ]
  },
  {
   "cell_type": "code",
   "execution_count": 40,
   "id": "977be036",
   "metadata": {},
   "outputs": [],
   "source": [
    "# Combined cell_r_results and cell_ecm_r_results into single df \n",
    "resolution_opti_results = pd.DataFrame({\n",
    "    'resolution': [0.0001, 0.001, 0.01, 0.1, 1.0, 10.0],\n",
    "    'cell_nmi': cell_r_results['nmi'],\n",
    "    'cell_ari': cell_r_results['ari'],\n",
    "    'cell_ecm_nmi': cell_ecm_r_results['nmi'],\n",
    "    'cell_ecm_ari': cell_ecm_r_results['ari']\n",
    "})\n"
   ]
  },
  {
   "cell_type": "code",
   "execution_count": 41,
   "id": "bbc55378",
   "metadata": {},
   "outputs": [
    {
     "data": {
      "text/html": [
       "<div>\n",
       "<style scoped>\n",
       "    .dataframe tbody tr th:only-of-type {\n",
       "        vertical-align: middle;\n",
       "    }\n",
       "\n",
       "    .dataframe tbody tr th {\n",
       "        vertical-align: top;\n",
       "    }\n",
       "\n",
       "    .dataframe thead th {\n",
       "        text-align: right;\n",
       "    }\n",
       "</style>\n",
       "<table border=\"1\" class=\"dataframe\">\n",
       "  <thead>\n",
       "    <tr style=\"text-align: right;\">\n",
       "      <th></th>\n",
       "      <th>resolution</th>\n",
       "      <th>cell_nmi</th>\n",
       "      <th>cell_ari</th>\n",
       "      <th>cell_ecm_nmi</th>\n",
       "      <th>cell_ecm_ari</th>\n",
       "    </tr>\n",
       "  </thead>\n",
       "  <tbody>\n",
       "    <tr>\n",
       "      <th>0</th>\n",
       "      <td>0.0001</td>\n",
       "      <td>0.331621</td>\n",
       "      <td>0.302636</td>\n",
       "      <td>0.382726</td>\n",
       "      <td>0.310716</td>\n",
       "    </tr>\n",
       "    <tr>\n",
       "      <th>1</th>\n",
       "      <td>0.0010</td>\n",
       "      <td>0.233601</td>\n",
       "      <td>0.046231</td>\n",
       "      <td>0.382726</td>\n",
       "      <td>0.310716</td>\n",
       "    </tr>\n",
       "    <tr>\n",
       "      <th>2</th>\n",
       "      <td>0.0100</td>\n",
       "      <td>0.182103</td>\n",
       "      <td>0.033947</td>\n",
       "      <td>0.173577</td>\n",
       "      <td>0.010366</td>\n",
       "    </tr>\n",
       "    <tr>\n",
       "      <th>3</th>\n",
       "      <td>0.1000</td>\n",
       "      <td>0.169028</td>\n",
       "      <td>0.012740</td>\n",
       "      <td>0.167543</td>\n",
       "      <td>0.014506</td>\n",
       "    </tr>\n",
       "    <tr>\n",
       "      <th>4</th>\n",
       "      <td>1.0000</td>\n",
       "      <td>0.153234</td>\n",
       "      <td>0.004859</td>\n",
       "      <td>0.152077</td>\n",
       "      <td>0.005408</td>\n",
       "    </tr>\n",
       "    <tr>\n",
       "      <th>5</th>\n",
       "      <td>10.0000</td>\n",
       "      <td>0.137010</td>\n",
       "      <td>0.001755</td>\n",
       "      <td>0.141545</td>\n",
       "      <td>0.002134</td>\n",
       "    </tr>\n",
       "  </tbody>\n",
       "</table>\n",
       "</div>"
      ],
      "text/plain": [
       "   resolution  cell_nmi  cell_ari  cell_ecm_nmi  cell_ecm_ari\n",
       "0      0.0001  0.331621  0.302636      0.382726      0.310716\n",
       "1      0.0010  0.233601  0.046231      0.382726      0.310716\n",
       "2      0.0100  0.182103  0.033947      0.173577      0.010366\n",
       "3      0.1000  0.169028  0.012740      0.167543      0.014506\n",
       "4      1.0000  0.153234  0.004859      0.152077      0.005408\n",
       "5     10.0000  0.137010  0.001755      0.141545      0.002134"
      ]
     },
     "execution_count": 41,
     "metadata": {},
     "output_type": "execute_result"
    }
   ],
   "source": [
    "resolution_opti_results"
   ]
  },
  {
   "cell_type": "code",
   "execution_count": null,
   "id": "c94ef973",
   "metadata": {},
   "outputs": [],
   "source": [
    "\n",
    "resolution_opti_results.to_csv('D:/Supplementary_figures/leiden_resolution_optimization.csv')"
   ]
  },
  {
   "cell_type": "code",
   "execution_count": null,
   "id": "8aea0ca8",
   "metadata": {},
   "outputs": [],
   "source": []
  }
 ],
 "metadata": {
  "kernelspec": {
   "display_name": "Python 3",
   "language": "python",
   "name": "python3"
  },
  "language_info": {
   "codemirror_mode": {
    "name": "ipython",
    "version": 3
   },
   "file_extension": ".py",
   "mimetype": "text/x-python",
   "name": "python",
   "nbconvert_exporter": "python",
   "pygments_lexer": "ipython3",
   "version": "3.11.9"
  }
 },
 "nbformat": 4,
 "nbformat_minor": 5
}
